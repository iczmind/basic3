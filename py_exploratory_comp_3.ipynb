{
 "cells": [
  {
   "cell_type": "markdown",
   "metadata": {},
   "source": [
    "\n",
    "# Metode Komputasi Eksplorasi menggunakan Python\n",
    "\n",
     "*Oleh Mark Bakker, TU Delft Belanda.*\n",
    "\n",
    "*Versi Indonesia disesuaikan oleh Tim ITB dan Tim ITS.*"
   ]
  },
  {
   "cell_type": "markdown",
   "metadata": {},
   "source": [
    "## Notebook 3: Loop dan Pernyataan `if/else`\n",
    "Karena kita akan menggunakan `numpy` dan `matplotlib` lagi, kita akan mulai dengan mengimpor paket-paket tersebut"
   ]
  },
  {
   "cell_type": "code",
   "execution_count": 6,
   "metadata": {
    "collapsed": false
   },
   "outputs": [],
   "source": [
    "import matplotlib.pyplot as plt\n",
    "import numpy as np\n",
    "%matplotlib inline"
   ]
  },
  {
   "cell_type": "markdown",
   "metadata": {},
   "source": [
    "###Dasar-dasar loop\n",
    "\n",
    "Loop digunakan untuk mengeksekusi suatu perintah secara berulang-ulang. Penulisan loop adalah seperti di bawah ini:"
   ]
  },
  {
   "cell_type": "code",
   "execution_count": 3,
   "metadata": {
    "collapsed": false
   },
   "outputs": [
    {
     "name": "stdout",
     "output_type": "stream",
     "text": [
      "0 Halo dunia\n",
      "1 Halo dunia\n",
      "2 Halo dunia\n",
      "3 Halo dunia\n",
      "4 Halo dunia\n"
     ]
    }
   ],
   "source": [
    "for i in range(5):\n",
    "    print (i,'Halo dunia')"
   ]
  },
  {
   "cell_type": "markdown",
   "metadata": {},
   "source": [
    "suatu 'range' dapat dirubah menjadi sebuah 'list'. Anda dapat memanggil 'range'dengan satu argumen, yang akan membuat 'range' dari nol sampai satu angka sebelum angka yang anda tulis. Sebagai contoh, 'range(10)'akan membuat 10 angka dari nol hingga 9. Anda dapat memilih nilai awal yang berbeda dan interval yang berbeda juga mirip dengan fungsi np.arange."
   ]
  },
  {
   "cell_type": "code",
   "execution_count": 12,
   "metadata": {
    "collapsed": false
   },
   "outputs": [
    {
     "name": "stdout",
     "output_type": "stream",
     "text": [
      "[0, 1, 2, 3, 4, 5, 6, 7, 8, 9]\n",
      "[1, 3, 5, 7, 9]\n"
     ]
    }
   ],
   "source": [
    "print (list(range(10)))\n",
    "print (list(range(1,10,2)))"
   ]
  },
  {
   "cell_type": "markdown",
   "metadata": {},
   "source": [
    "Jadi, untuk kalimat:\n",
    "\n",
    "`for i in range(5):` \n",
    "\n",
    "setara dengan\n",
    "\n",
    "`for i in [0,1,2,3,4]:`\n",
    "\n",
    "Tanda titik dua (`:`) perlu diletakkan di akhir tiap kalimat yang diawali dengan `for`. Proses loop dimulai setelah tanda titik dua. Kalimat selanjutnya harus ditulis secara takuk (*indent*). Tidak masalah seberapa banyak Anda memposisikan takuknya, selama Anda konsisten. Posisi *notebook* akan tertakuk otomatis, jadi tetaplah gunakan seperti itu. Seluruh sel dari kode yang bertakuk akan dieksekusi sebelum berpindah ke nilai berikutnya dalam *list*. Untuk mengindikasikan akhir dari loop, Anda hanya tinggal berhenti memberikan takuk."
   ]
  },
  {
   "cell_type": "code",
   "execution_count": 10,
   "metadata": {
    "collapsed": false
   },
   "outputs": [
    {
     "name": "stdout",
     "output_type": "stream",
     "text": [
      "x,xsquare  0 0\n",
      "x,xsquare  1 1\n",
      "x,xsquare  2 4\n",
      "x,xsquare  3 9\n",
      "x,xsquare  4 16\n",
      "Kita sudah selesai dengan loop\n"
     ]
    }
   ],
   "source": [
    "for x in range(5):\n",
    "    xsquare = x**2\n",
    "    print ('x,xsquare ',x,xsquare)\n",
    "print ('Kita sudah selesai dengan loop')"
   ]
  },
  {
   "cell_type": "markdown",
   "metadata": {},
   "source": [
    "Sebuah loop dapat digunakan untuk mengisi array. Mari hitung $y=\\cos(x)$ di mana $x$ adalah sebuah array yang bervariasi antara 0 sampai $2\\pi$ dengan 100 poin. Kita sudah tahu, tentu saja, bahwa array ini dapat dilakukan hanya dengan satu pernyataan (`y=cos(x)`). Namun demikian, terkadang hal ini tidak mungkin dilakukan, jadi kita perlu belajar juga bagaimana mengisi array dengan menggunakan loop. Pertama, kita harus membuat array `y` (sebagai contoh diisi dengan beberapa angka nol menggunakan fungsi `zeros_like`) lalu isilah array tersebut dengan angka-angka yang tepat dengan cara membuat loop yang melalui seluruh nilai dari `x`. Perhitungan dalam loop (variabel `i` pada kode di bawah ini) digunakan sebagai indeks dari array yang telah terisi."
   ]
  },
  {
   "cell_type": "code",
   "execution_count": 11,
   "metadata": {
    "collapsed": false
   },
   "outputs": [
    {
     "data": {
      "text/plain": [
       "[<matplotlib.lines.Line2D at 0x194836281d0>]"
      ]
     },
     "execution_count": 11,
     "metadata": {},
     "output_type": "execute_result"
    },
    {
     "data": {
      "image/png": "[encoded data removed]",
      "text/plain": [
       "<matplotlib.figure.Figure at 0x194832611d0>"
      ]
     },
     "metadata": {},
     "output_type": "display_data"
    }
   ],
   "source": [
    "x = np.linspace(0,2*np.pi,100)\n",
    "y = np.zeros_like(x)  # sama dengan zeros(shape(x))\n",
    "for i in range(len(x)):\n",
    "    y[i] = np.cos(x[i])\n",
    "plt.plot(x,y)"
   ]
  },
  {
   "cell_type": "markdown",
   "metadata": {},
   "source": [
    "Konsep loop sangat berguna dalam script pemrograman. Kapan saja Anda perlu komputasi berulang, Anda harus langsung berpikir: *loop !*. "
   ]
  },
  {
   "cell_type": "markdown",
   "metadata": {},
   "source": [
    "###Latihan 1.  <a name=\"back1\"></a>Loop `for`\n",
    "\n",
    "Pertama buatlah sebuah list nama-nama bulan. Setelah itu, buatlah list kedua berisikan jumlah hari dalam sebulan (untuk tahun biasa).\n",
    "Buat loop `for` yang menuliskan:\n",
    "\n",
    "`Jumlah hari dalam BULAN adalah XX hari`\n",
    "\n",
    "di mana, tentu saja, Anda menuliskan nama-nama bulan yang tepat untuk `BULAN` jumlah hari yang benar untuk `XX`."
   ]
  },
  {
   "cell_type": "code",
   "execution_count": 16,
   "metadata": {
    "collapsed": false
   },
   "outputs": [
    {
     "name": "stdout",
     "output_type": "stream",
     "text": [
      "januari 31\n",
      "februari 28\n",
      "maret 31\n",
      "april 30\n",
      "mei 31\n",
      "juni 30\n",
      "juli 31\n",
      "agustus 31\n",
      "september 30\n",
      "oktober 31\n",
      "november 30\n",
      "desember 31\n"
     ]
    }
   ],
   "source": [
    "x=['januari','februari', 'maret', 'april', 'mei', 'juni', 'juli', 'agustus', 'september', 'oktober', 'november', 'desember']\n",
    "y=[31, 28, 31, 30, 31, 30, 31, 31, 30, 31, 30, 31]\n",
    "for i in range(12):\n",
    "    print (x[i],y[i])"
   ]
  },
  {
   "cell_type": "markdown",
   "metadata": {},
   "source": [
    "<a href=\"#ex1answer\">Kunci Jawaban Latihan 1</a>"
   ]
  },
  {
   "cell_type": "markdown",
   "metadata": {},
   "source": [
    "###Pernyataan`if`/`else`\n",
    "\n",
    "Seperti yang telah kita lihat, dasar pernyataan `if` dapat digunakan untuk melaksanakan sebuah perintah apabila kondisi tersebut benar atau `True`. Pernyataan `if` dapat diikuti dengan pernyataan `else`, yang dapat dieksekusi ketika kondisi setelah `if` adalah salah atau `False`. Sebagai contoh:"
   ]
  },
  {
   "cell_type": "code",
   "execution_count": 18,
   "metadata": {
    "collapsed": false
   },
   "outputs": [
    {
     "name": "stdout",
     "output_type": "stream",
     "text": [
      "a lebih besar dari 3\n"
     ]
    }
   ],
   "source": [
    "a = 4\n",
    "if a < 3:\n",
    "    print ('a lebih kecil dari 3')\n",
    "else:\n",
    "    print ('a lebih besar dari 3')"
   ]
  },
  {
   "cell_type": "markdown",
   "metadata": {},
   "source": [
    "Anda dapat memperpanjang fungsi `else` dengan cara menambahkan beberapa kondisi lagi menggunakan perintah `elif` yang merupakan kependekan dari 'else if'"
   ]
  },
  {
   "cell_type": "code",
   "execution_count": 19,
   "metadata": {
    "collapsed": false
   },
   "outputs": [
    {
     "name": "stdout",
     "output_type": "stream",
     "text": [
      "a sama dengan 4\n"
     ]
    }
   ],
   "source": [
    "a = 4\n",
    "if a < 4:\n",
    "    print ('a lebih kecil dari 4')\n",
    "elif a > 4:\n",
    "    print ('a lebih besar dari 4')\n",
    "else:\n",
    "    print ('a sama dengan 4')"
   ]
  },
  {
   "cell_type": "markdown",
   "metadata": {},
   "source": [
    "Dibandingkan dengan menentukan nilai variabel `a` di atas sel kode tersebut, Anda dapat menanyakan pengguna program untuk memasukkan sebuah nilai dan menyimpan nilai tersebut ke dalam variabel `a` melalui fungsi `input`. Jalankan sel kode di bawah ini beberapa kali untuk melihat apakah cara tersebut berhasil ketika nilai yang dimasukkan lebih besar dari 4, lebih kecil dari 4, atau sama dengan 4."
   ]
  },
  {
   "cell_type": "code",
   "execution_count": 43,
   "metadata": {
    "collapsed": false
   },
   "outputs": [
    {
     "name": "stdout",
     "output_type": "stream",
     "text": [
      "Masukkan sebuah nilai 1\n",
      "a lebih kecil dari 4\n"
     ]
    }
   ],
   "source": [
    "a = input('Masukkan sebuah nilai ')\n",
    "a=float(a)\n",
    "if a < 4:\n",
    "    print ('a lebih kecil dari 4')\n",
    "elif a > 4:\n",
    "    print ('a lebih besar dari 4')\n",
    "else:\n",
    "    print ('a sama dengan 4')"
   ]
  },
  {
   "cell_type": "markdown",
   "metadata": {},
   "source": [
    "###Latihan 2. <a name=\"back2\"></a>Kombinasi dari loop `for` dengan pernyataan `if` \n",
    "\n",
    "Perhatikan fungsi berikut\n",
    "\n",
    "$\\begin{split}\n",
    "y &= \\cos(x) \\qquad \\text{for} \\qquad x < 0 \\\\\n",
    "y &= \\exp(-x) \\qquad \\text{for} \\qquad x \\ge 0 \\\\\n",
    "\\end{split}$\n",
    "\n",
    "Hitunglah $y$ for $x$ dari $-2\\pi$ sampai $2\\pi$ dengan menggunakan 100 poin dan buatlah grafiknya. Pastikan bahwa limit sumbu $x$ adalah dari $-2\\pi$ sampai $2\\pi$."
   ]
  },
  {
   "cell_type": "code",
   "execution_count": 46,
   "metadata": {
    "collapsed": false
   },
   "outputs": [
    {
     "data": {
      "text/plain": [
       "(-6.283185307179586, 6.283185307179586)"
      ]
     },
     "execution_count": 46,
     "metadata": {},
     "output_type": "execute_result"
    },
    {
     "data": {
      "image/png": "[encoded data removed]",
      "text/plain": [
       "<matplotlib.figure.Figure at 0x1948366a2b0>"
      ]
     },
     "metadata": {},
     "output_type": "display_data"
    }
   ],
   "source": [
    "x = np.linspace(-2*np.pi,2*np.pi,100)\n",
    "y = np.zeros_like(x)\n",
    "for i in range(100):\n",
    "    if x[i]<0:\n",
    "        y[i]=np.cos(x[i])\n",
    "    else:\n",
    "        y[i]=np.exp(-x[i])\n",
    "plt.plot(x,y)\n",
    "plt.xlim(-2*np.pi,2*np.pi)\n",
    "        \n"
   ]
  },
  {
   "cell_type": "markdown",
   "metadata": {},
   "source": [
    "<a href=\"#ex2answer\">Kunci Jawaban Latihan 2</a>"
   ]
  },
  {
   "cell_type": "markdown",
   "metadata": {},
   "source": [
    "###Latihan 3. <a name=\"back3\"></a>Memuat data dan memroses loop dari data temperatur\n",
    "\n",
    "Muatlah data hujan Jakarta dari data dokumen yang telah digunakan sebelumnya (`hujan_jakarta.dat`). Gunakan loop untuk seluruh hujan bulanan dan tulislah pesan yang memperhitungkan juga nilai per bulan serta status apakah hujan bulan tersebut di atas atau di bawah 200 mm"
   ]
  },
  {
   "cell_type": "code",
   "execution_count": null,
   "metadata": {
    "collapsed": false
   },
   "outputs": [],
   "source": []
  },
  {
   "cell_type": "markdown",
   "metadata": {},
   "source": [
    "<a href=\"#ex3answer\">Kunci Jawaban Latihan 3</a>"
   ]
  },
  {
   "cell_type": "markdown",
   "metadata": {},
   "source": [
    "###Proses loop dan penjumlahan\n",
    "\n",
    "Salah satu aplikasi dari loop adalah menghitung jumlah seluruh nilai di dalam sebuah array. Perhatikan, sebagai contoh, array `data` dengan 8 nilai. Kita akan menghitung jumlah seluruh nilai di dalam `data`. Pertama, kita definisikan dahulu sebuah variabel `datasum` dan masukkan nilai 0 ke dalamnya. Selanjutnya, lakukan proses loop untuk semua nilai dalam array  `data` dan tambahkan nilai tersebut ke dalam `datasum`:"
   ]
  },
  {
   "cell_type": "code",
   "execution_count": null,
   "metadata": {
    "collapsed": false
   },
   "outputs": [],
   "source": [
    "data = np.array([1,3,2,5,7,3,4,2])\n",
    "datasum = 0\n",
    "for i in range(len(data)):\n",
    "    datasum = datasum + data[i]\n",
    "    print 'i,datasum: ',i,datasum\n",
    "print 'total sum of data: ',datasum"
   ]
  },
  {
   "cell_type": "markdown",
   "metadata": {},
   "source": [
    "Perhatikan bahwa pernyataan berikut\n",
    "\n",
    "`datasum = datasum + data[i]` \n",
    "\n",
    "berarti `data[i]` sudah ditambahkan ke dalam nilai `datasum` saat ini dan hasilnya ditetapkan sebagai `datasum`. Sebenarnya, ada cara penulisan yang lebih pendek untuk pernyataan yang sama: \n",
    "\n",
    "`datasum += data[i]`\n",
    "\n",
    "Perintah `+=` berarti: tambahkan nilai apapun yang berada di sebelah kanan tanda `+=` dengan nilai apapun yang berada di sebelah kirinya. Anda dapat memilih syntax manapun yang paling sesuai dengan Anda (meskipun `+=` dianggap lebih baik dan dalam beberapa kasus menjadi lebih efisien)."
   ]
  },
  {
   "cell_type": "markdown",
   "metadata": {},
   "source": [
    "###Latihan 4.  <a name=\"back4\"></a>Pemrosesan Total\n",
    "\n",
    "Untuk data dari contoh sebelumnya, lakukanlah pemrosesan total dan simpanlah di dalam array. Dengan demikian, hasil pemrosesan tersebut akan menjadi array dengan panjang yang sama dengan `data`, di mana karakter `i` adalah jumlah seluruh nilai di dalam array `data` sampai dengan (dan termasuk) `data[i]`. Tampilkan array `data` dan array yang baru dibuat dengan pemrosesan total ke layar."
   ]
  },
  {
   "cell_type": "code",
   "execution_count": null,
   "metadata": {
    "collapsed": false
   },
   "outputs": [],
   "source": []
  },
  {
   "cell_type": "markdown",
   "metadata": {},
   "source": [
    "<a href=\"#ex4answer\">Kunci Jawaban Latihan 4</a>"
   ]
  },
  {
   "cell_type": "markdown",
   "metadata": {},
   "source": [
    "###Mencari nilai maksimum dengan cara yang sulit\n",
    "\n",
    "Berikutnya, mari temukan nilai maksimum dari array `data` dan indeks nilai maksimumnya. Sebagai ilustrasi, kita akan melakukannya secara sulit dengan menggunakan sebuah loop dan pernyataan kemungkinan (if). Pertama, kita akan membuat variabel  `maxvalue` yang memuat nilai maksimum dan mengaturnya sejak awal dari nilai yang sangat kecil. Kita juga akan membuat variabel  `maxindex` yang merupakan indeks nilai maksimum dan mengaturnya sejak awal menjadi `None`. Selanjutnya, kita buat loop yang melalui seluruh nilai dari array `data` dan memperbaruinya dengan `maxvalue` serta `maxindex` setiap kali kita menemukan nilai yang lebih besar dari nilai `maxvalue` saat ini."
   ]
  },
  {
   "cell_type": "code",
   "execution_count": null,
   "metadata": {
    "collapsed": false
   },
   "outputs": [],
   "source": [
    "maxvalue = -1e8\n",
    "maxindex = None\n",
    "for i in range(len(data)):\n",
    "    if data[i] > maxvalue:\n",
    "        maxvalue = data[i]\n",
    "        maxindex = i\n",
    "print 'nilai maksimum adalah ',maxvalue\n",
    "print 'indeks nilai maksimum adalah ',maxindex"
   ]
  },
  {
   "cell_type": "markdown",
   "metadata": {},
   "source": [
    "Untuk contoh ini, mudah saja untuk mengecek apakah nilai-nilai tersebut benar atau tidak dengan cara melihat array `data`. Tentu saja, ada fungsi-fungsi yang tersedia (dalam paket *numpy*) untuk menemukan nilai maksimum dan indeks nilai maksimumnya: `amax` mengembalikan nilai maksimum tersebut ke dalam sebuah array, dan `argmax` mengembalikan indeks nilai maksimum dari array tersebut. Terdapat beberapa fungsi serupa jika Anda tertarik untuk menggunakannya dalam mencari nilai minimum."
   ]
  },
  {
   "cell_type": "code",
   "execution_count": null,
   "metadata": {
    "collapsed": false
   },
   "outputs": [],
   "source": [
    "print 'nilai maksimum adalah ',np.amax(data)\n",
    "print 'Indeks nilai maksimum adalah ',np.argmax(data)"
   ]
  },
  {
   "cell_type": "markdown",
   "metadata": {},
   "source": [
    "### Latihan 5. <a name=\"back5\"></a>Bulan dengan temperatur paling mendekati 15 derajat\n",
    "\n",
    "Temukan bulan di mana suhu rata-rata per bulannya di Belanda paling mendekati 15 derajat Celcius. Terapkan pendekatan yang telah digambarkan sebelumnya dengan cara pembuatan loop melalui semua nilai dan pergunakan pernyataan `if` di dalam loop tersebut. Anda mungkin juga ingin menggunakan fungsi `abs` untuk menghitung nilai absolutnya. Ujilah jawaban Anda dengan menggunakan metode alternatif yang tidak perlu menggunakan loop dan pernyataan `if`."
   ]
  },
  {
   "cell_type": "code",
   "execution_count": null,
   "metadata": {
    "collapsed": false
   },
   "outputs": [],
   "source": []
  },
  {
   "cell_type": "markdown",
   "metadata": {},
   "source": [
    "<a href=\"#ex5answer\">Kunci Jawaban Latihan 5</a>"
   ]
  },
  {
   "cell_type": "markdown",
   "metadata": {},
   "source": [
    "### Loop Bersarang (*Nested Loops*)\n",
    "Memang memungkinkan juga untuk membuat loop di dalam loop lain. Metode ini disebut loop bersarang atau *nested loops*. Sebagai contoh, tinjaulah array `data` dengan 3 baris dan 4 kolom seperti di bawah ini. Kita ingin menghitung jumlah nilai dari tiap baris dan kita akan melakukannya dengan menggunakan loop rangkap (*double loop*). Pertama, kita membuat array dengan nilai nol semua dan kita beri nama `rowtotal`, dengan panjang 3 baris (1 nilai untuk tiap baris dari array `data`). Selanjutnya, kita buat loop melalui tiap baris. Dari tiap baris di dalam loop, kita buat loop lain lagi yang melewati semua kolom dan menambahkan nilai untuk array *rowtotal* untuk baris tersebut."
   ]
  },
  {
   "cell_type": "code",
   "execution_count": null,
   "metadata": {
    "collapsed": false
   },
   "outputs": [],
   "source": [
    "data = np.array([[1,2,3,5],\n",
    "              [4,8,6,4],\n",
    "              [3,5,4,6]])\n",
    "rowtotal = np.zeros(3)\n",
    "for irow in range(3):\n",
    "    for jcol in range(4):\n",
    "        rowtotal[irow] += data[irow,jcol]\n",
    "        # Alternatif lain dengan waktu lebih lama:\n",
    "        #rowtotal[irow] = rowtotal[irow] + data[irow,jcol]\n",
    "print rowtotal"
   ]
  },
  {
   "cell_type": "markdown",
   "metadata": {},
   "source": [
    "Setelah menjalankan kode di atas, mula-mula pastikan bahwa jawaban tersebut benar. Selanjutnya, anggaplah penting untuk mengeset nilaidari `rowtotal` menjadi 0 sebelum menjalankan loop, karena kita menambahkan nilai-nilai tersebut untuk menghitung hasil penjumlahan nilai dari tiap baris. Di dalam kode tersebut, kita menggunakan dua loop, dan dengan demikian kita membuat dua kali takuk (*indent*)."
   ]
  },
  {
   "cell_type": "markdown",
   "metadata": {},
   "source": [
    "###Fungsi Jeda (*Break*) dan Fungsi Sesaat (*While*)\n",
    "\n",
    "Salah satu pekerjaan umum yang harus dilakukan adalah menemukan posisi sebuah nilai di dalam tabel yang telah diurutkan. Sebagai contoh, tentukan berada di manakah posisi nomor 6 dan diapit oleh kedua angka manakah di antara rangkaian nilai `[1,4,5,8,9]`.\n",
    "Saya tahu, itu berada di antara angka `5` and `8`, tapi bagaimanakah jadinya kalau daftar tersebut sangat panjang? Jika demikian, Anda benar-benar harus menyelesaikannya satu per satu secara rutin.\n",
    "Untuk menemukan posisi angka di dalam daftar, kita perlu menjalankan loop melalui seluruh isi daftar dan memberikan jeda dari loop tersebut sesaat setelah kita menemukan posisi angka tersebut. Untuk itu, Python memiliki perintah `break`."
   ]
  },
  {
   "cell_type": "code",
   "execution_count": 58,
   "metadata": {
    "collapsed": false
   },
   "outputs": [
    {
     "name": "stdout",
     "output_type": "stream",
     "text": [
      "a terletak di antara  5  dan  8\n"
     ]
    }
   ],
   "source": [
    "x = [1,4,5,8,9]\n",
    "a = 6\n",
    "for i in range(len(x)):\n",
    "    if a < x[i]:\n",
    "        break\n",
    "print ('a terletak di antara ',x[i-1],' dan ',x[i])"
   ]
  },
  {
   "cell_type": "markdown",
   "metadata": {},
   "source": [
    "Ada cara lain untuk membuat kode tersebut menggunakan loop `while`. Mari pertama-tama kita lihat dahulu bagaimana loop `while` ini dapat berfungsi sama dengan kode di atas."
   ]
  },
  {
   "cell_type": "code",
   "execution_count": 61,
   "metadata": {
    "collapsed": false
   },
   "outputs": [
    {
     "name": "stdout",
     "output_type": "stream",
     "text": [
      "a terletak di antara  5  dan  8\n"
     ]
    }
   ],
   "source": [
    "x = [1,4,5,8,9]\n",
    "a = 6\n",
    "i = 0\n",
    "while a >= x[i]:\n",
    "    i = i + 1\n",
    "print ('a terletak di antara ',x[i-1],' dan ',x[i])"
   ]
  },
  {
   "cell_type": "markdown",
   "metadata": {},
   "source": [
    "Dalam loop `while`, perbandingan dilakukan di awal loop, ketika parameter pengurut (dalam hal ini `i`) diperbarui di dalam loop. Baik loop dengan jeda (`break`) maupun loop sesaat (`while`) bekerja dengan baik menggunakan parameter pengurut ini, tetapi loop `while` dapat menjadi sedikit bermasalah dalam kasus tertentu, karena dapat menghasilkan loop tak terhingga ketika terdapat kesalahan/*error* dalam kode Anda. Setelah Anda mengalami loop tak terhingga (loop yang tak pernah berakhir), klik menu [Kernel] pada bagian atas *window* dan pilih perintah [Restart]. Perintah tersebut akan mengakhiri sesi Python Anda dan memulai sesi yang baru. Ketika Anda menampilkan sesuatu ke layar dari loop `while` Anda, sudah tidak akan mungkin lagi untuk keluar dari loop dan Anda mungkin perlu mengakhiri sesi Python Anda (serta mungkin kehilangan sebagian dari hasil kerja Anda)."
   ]
  },
  {
   "cell_type": "markdown",
   "metadata": {},
   "source": [
    "###*Strings*\n",
    "\n",
    "*Strings* adalah jenis data yang sangat serbaguna, dan kita dapat mempergunakan seluruh *Notebook* dengan mudah lewat *strings*.\n",
    "Kita hanya akan menggunakan *strings* secara terbatas, jadi kita akan menjaga penggunaannya di sini sampai sekecil-kecilnya. Kita sudah mempergunakan *strings* untuk menentukan nama-nama sepanjang sumbu-sumbu grafik, atau dalam legenda grafik. *Strings* seperti tupel (rangkaian data permanen yang berurutan) di mana setiap karakter memiliki sebuah indeks. Setiap karakter atau kumpulan karakter dapat diakses, sama seperti pada tupel, namun karakter-karakter tersebut tidak dapat diubah. Setiap \"string\" juga memiliki panjangnya masing-masing."
   ]
  },
  {
   "cell_type": "code",
   "execution_count": 74,
   "metadata": {
    "collapsed": false
   },
   "outputs": [
    {
     "name": "stdout",
     "output_type": "stream",
     "text": [
      "21\n",
      "s\n",
      "selamat pagi\n"
     ]
    }
   ],
   "source": [
    "text1 = 'selamat pagi semuanya'\n",
    "print (len(text1))\n",
    "print (text1[0])\n",
    "print (text1[0:12])"
   ]
  },
  {
   "cell_type": "markdown",
   "metadata": {},
   "source": [
    "Saat Anda menambahkan dua *strings*, dua data tersebut diletakkan saling membelakangi, sama seperti pada tupel. Jika Anda ingin menggabungkan teks dengan sebuah variabel, pertama-tama Anda perlu mengubah variabel tersebut menjadi *string*, dan barulah Anda dapat menambahkan kedua *strings* tersebut."
   ]
  },
  {
   "cell_type": "code",
   "execution_count": 77,
   "metadata": {
    "collapsed": false
   },
   "outputs": [
    {
     "name": "stdout",
     "output_type": "stream",
     "text": [
      "selamat pagi semuanya di kelas\n",
      "Angka ajaib adalah 7\n"
     ]
    }
   ],
   "source": [
    "newtext = text1 + ' di kelas'  # Penambahan dua strings\n",
    "print (newtext)\n",
    "a = 7\n",
    "mes = 'Angka ajaib adalah ' + str(a)  # Penggabungan strings dan angka\n",
    "print (mes)"
   ]
  },
  {
   "cell_type": "markdown",
   "metadata": {},
   "source": [
    "Prinsip perbandingan dalam loop bekerja pada *strings* seperti pada angka-angka biasa. Dalam operasi tersebut, karakter pertama dalam sebuah *string* dibandingkan dengan karakter berikutnya hanya ketika karakter pertama dari kedua *strings* sama. Huruf 'a' lebih kecil dari 'b', 'b' lebih kecil dari 'c', dan seterusnya. Namun berhati-hatilah, dalam proses pengurutan, karakter berhuruf kapital lebih kecil dari karakter berhuruf kecil! Jadi, 'A' lebih kecil dari 'a', juga lebih kecil dari 'm' atau karakter lain apapun yang berhuruf kecil. Coba lihat bahwa Anda mengerti pernyataan berikut:"
   ]
  },
  {
   "cell_type": "code",
   "execution_count": 13,
   "metadata": {
    "collapsed": false
   },
   "outputs": [
    {
     "name": "stdout",
     "output_type": "stream",
     "text": [
      "True\n",
      "True\n",
      "False\n",
      "True\n",
      "True\n"
     ]
    }
   ],
   "source": [
    "print ('bandung' < 'surabaya')  # Benar karena 'b' lebih kecil dari 's'\n",
    "print ('bandang' < 'bandung')      # Benar karena 'a' lebih kecil dari 'u'\n",
    "print ('bandung' == 'Bandung')     # Salah karena huruf kapital dan huruf kecil tidak sama\n",
    "print ('Surabaya' < 'surabaya')      # Benar karena 'S' lebih kecil dari 's'\n",
    "print ('Bandung' < 'surabaya')  # Benar juga, karena 'B' lebih kecil dari 's' atau karakter lain apapun yang berhuruf kecil."
   ]
  },
  {
   "cell_type": "markdown",
   "metadata": {},
   "source": [
    "*Strings* dapat diubah menjadi karakter berhuruf kapital maupun huruf kecil."
   ]
  },
  {
   "cell_type": "code",
   "execution_count": 14,
   "metadata": {
    "collapsed": false
   },
   "outputs": [
    {
     "name": "stdout",
     "output_type": "stream",
     "text": [
      "Indonesia\n",
      "indonesia\n",
      "INDONESIA\n"
     ]
    }
   ],
   "source": [
    "IND = 'Indonesia'\n",
    "print (IND)\n",
    "print (IND.lower())\n",
    "print (IND.upper())"
   ]
  },
  {
   "cell_type": "markdown",
   "metadata": {},
   "source": [
    "###Latihan 6. <a name=\"back6\"></a>Temukan posisi nama Anda di dalam daftar. Tulislah sebuah *script* yang memperlihatkan di antara dua nama manakah nama Anda terdaftar.\n",
    "`['Adit', 'Budi', 'Cecep', 'Firman', 'Jojo', 'Lili', 'Pedro', 'Samsul', 'Tuti', 'Yanuar']` "
   ]
  },
  {
   "cell_type": "code",
   "execution_count": 15,
   "metadata": {
    "collapsed": false
   },
   "outputs": [
    {
     "name": "stdout",
     "output_type": "stream",
     "text": [
      "a terletak di antara  Adit  dan  Budi\n"
     ]
    }
   ],
   "source": []
  },
  {
   "cell_type": "markdown",
   "metadata": {},
   "source": [
    "<a href=\"#ex6answer\">Kunci Jawaban Latihan 6</a>"
   ]
  },
  {
   "cell_type": "markdown",
   "metadata": {},
   "source": [
    "###Latihan 7, <a name=\"back7\"></a>Data Harga Minyak\n",
    "\n",
    "Dokumen `oil_price.dat` memuat harga minyak per bulan sejak 1985. Dokumen tersebut terdiri atas 3 kolom, tahun, bulan, dan harga minyak dalam euro. Buatlah plot dari harga minyak dan tentukan bulan dan tahun pertama kali harga minyak naik diatas 40, 60 dan 80 Euro. "
   ]
  },
  {
   "cell_type": "code",
   "execution_count": 50,
   "metadata": {
    "collapsed": false
   },
   "outputs": [
    {
     "name": "stdout",
     "output_type": "stream",
     "text": [
      "340\n",
      "indeks  238\n",
      "Harga minyak melampaui 40 euro pada  3 2005\n",
      "Harga minyak melampaui 60 euro pada  11 2007\n",
      "Harga minyak melampaui 80 euro pada  5 2008\n"
     ]
    },
    {
     "data": {
      "image/png": "[encoded data removed]",
      "text/plain": [
       "<matplotlib.figure.Figure at 0x1dbeaca36d8>"
      ]
     },
     "metadata": {},
     "output_type": "display_data"
    }
   ],
   "source": [
    "import matplotlib.dates as md\n",
    "import numpy as np\n",
    "oilprice = np.loadtxt('oil_price_monthly.dat',delimiter=',')\n",
    "plt.plot(oilprice[:,2],'b-')\n",
    "plt.xticks(rotation=30)\n",
    "nrow,ncol=oilprice.shape\n",
    "print (nrow)\n",
    "for i in range(nrow):\n",
    "    if oilprice[i,2] > 40:\n",
    "        print ('indeks ',i)\n",
    "        print ('Harga minyak melampaui 40 euro pada ',int(oilprice[i,1]),int(oilprice[i,0]))\n",
    "        break\n",
    "for i in range(nrow):\n",
    "    if oilprice[i,2] > 60:\n",
    "        date = md.num2date(oilprice[i,1])\n",
    "        print ('Harga minyak melampaui 60 euro pada ',int(oilprice[i,1]),int(oilprice[i,0]))\n",
    "        break\n",
    "for i in range(nrow):\n",
    "    if oilprice[i,2] > 80:\n",
    "        date = md.num2date(oilprice[i,1])\n",
    "        print ('Harga minyak melampaui 80 euro pada ',int(oilprice[i,1]),int(oilprice[i,0]))\n",
    "        break"
   ]
  },
  {
   "cell_type": "markdown",
   "metadata": {},
   "source": [
    "<a href=\"#ex6answer\">Kunci Jawaban Latihan 7</a>"
   ]
  },
  {
   "cell_type": "markdown",
   "metadata": {},
   "source": [
    "###Kunci Jawaban untuk Soal-soal Latihan"
   ]
  },
  {
   "cell_type": "markdown",
   "metadata": {},
   "source": [
    "<a name=\"ex1answer\">Kunci Jawaban Latihan 1</a>"
   ]
  },
  {
   "cell_type": "code",
   "execution_count": null,
   "metadata": {
    "collapsed": false
   },
   "outputs": [],
   "source": [
    "months = ['Januari','Februari','Maret','April','Mei','Juni','Juli','Agustus','September','Oktober','November','Desember']\n",
    "days = [31,28,31,30,31,30,31,31,30,31,30,31]\n",
    "for i in range(12):\n",
    "    print 'Jumlah hari pada bulan',months[i],'adalah',days[i]"
   ]
  },
  {
   "cell_type": "markdown",
   "metadata": {},
   "source": [
    "<a href=\"#back1\">Kembali ke Latihan 1</a>\n",
    "\n",
    "<a name=\"ex2answer\">Kunci Jawaban Latihan 2</a>"
   ]
  },
  {
   "cell_type": "code",
   "execution_count": null,
   "metadata": {
    "collapsed": false
   },
   "outputs": [],
   "source": [
    "x = np.linspace(-2*np.pi,2*np.pi,100)\n",
    "y = np.zeros_like(x)\n",
    "for i in range(100):\n",
    "    if x[i] < 0:\n",
    "        y[i] = np.cos(x[i])\n",
    "    else:\n",
    "        y[i] = np.exp(-x[i])\n",
    "plt.plot(x,y)\n",
    "plt.xlim(-2*np.pi,2*np.pi)"
   ]
  },
  {
   "cell_type": "markdown",
   "metadata": {},
   "source": [
    "<a href=\"#back2\">Kembali ke Latihan 2</a>\n",
    "\n",
    "<a name=\"ex3answer\">Kunci Jawaban Latihan 3</a>"
   ]
  },
  {
   "cell_type": "code",
   "execution_count": 55,
   "metadata": {
    "collapsed": false
   },
   "outputs": [
    {
     "name": "stdout",
     "output_type": "stream",
     "text": [
      "hujan bulan 1  lebih tinggi dari 200 mm\n",
      "hujan bulan 2  lebih rendah dari 200 mm\n",
      "hujan bulan 3  lebih rendah dari 200 mm\n",
      "hujan bulan 4  lebih rendah dari 200 mm\n",
      "hujan bulan 5  lebih rendah dari 200 mm\n",
      "hujan bulan 6  lebih rendah dari 200 mm\n",
      "hujan bulan 7  lebih rendah dari 200 mm\n",
      "hujan bulan 8  lebih rendah dari 200 mm\n",
      "hujan bulan 9  lebih rendah dari 200 mm\n",
      "hujan bulan 10  lebih rendah dari 200 mm\n",
      "hujan bulan 11  lebih tinggi dari 200 mm\n",
      "hujan bulan 12  lebih tinggi dari 200 mm\n"
     ]
    }
   ],
   "source": [
    "hujan = np.loadtxt('hujan_jakarta.dat')\n",
    "for i in range(len(hujan)):\n",
    "    if hujan[i] < 200:\n",
    "        print ('hujan bulan',i+1,' lebih rendah dari 200 mm')\n",
    "    else:\n",
    "        print ('hujan bulan',i+1,' lebih tinggi dari 200 mm')\n"
   ]
  },
  {
   "cell_type": "markdown",
   "metadata": {},
   "source": [
    "<a href=\"#back3\">Kembali ke Latihan 3</a>\n",
    "\n",
    "<a name=\"ex4answer\">Kunci Jawaban Latihan 4</a>"
   ]
  },
  {
   "cell_type": "code",
   "execution_count": null,
   "metadata": {
    "collapsed": false
   },
   "outputs": [],
   "source": [
    "data = np.array([1,3,2,5,7,3,4,2])\n",
    "runningtotal = np.zeros_like(data)\n",
    "runningtotal[0] = data[0]\n",
    "for i in range(1,len(data)):\n",
    "    runningtotal[i] = runningtotal[i-1] + data[i]\n",
    "print 'nilai data: ',data\n",
    "print 'pemrosesan total: ',runningtotal"
   ]
  },
  {
   "cell_type": "markdown",
   "metadata": {},
   "source": [
    "<a href=\"#back4\">Kembali ke Latihan 4</a>\n",
    "\n",
    "<a name=\"ex5answer\">Kunci Jawaban Latihan 5</a>"
   ]
  },
  {
   "cell_type": "code",
   "execution_count": null,
   "metadata": {
    "collapsed": false
   },
   "outputs": [],
   "source": [
    "temperature = np.loadtxt('holland_temperature.dat')\n",
    "print temperature\n",
    "monthindex = -1\n",
    "tdiff = 100.0\n",
    "for i in range(12):\n",
    "    if abs(temperature[i] - 15) < tdiff:\n",
    "        monthindex = i\n",
    "        tdiff = abs(temperature[i] - 15)\n",
    "print 'Jumlah bulan dengan temperatur paling mendekati 15 derajat, temp: ',monthindex+1,temperature[monthindex]\n",
    "print 'Metode alternatif:'\n",
    "altmin = np.argmin(abs(temperature-15))\n",
    "print 'Jumlah bulan dengan temperatur paling mendekati 15 derajat, temp: ',altmin+1,temperature[altmin]"
   ]
  },
  {
   "cell_type": "markdown",
   "metadata": {},
   "source": [
    "<a href=\"#back5\">Kembali ke Latihan 5</a>\n",
    "\n",
    "<a name=\"ex6answer\">Kunci Jawaban Latihan 6</a>"
   ]
  },
  {
   "cell_type": "code",
   "execution_count": 16,
   "metadata": {
    "collapsed": false
   },
   "outputs": [
    {
     "name": "stdout",
     "output_type": "stream",
     "text": [
      "a terletak di antara  Adit  dan  Budi\n"
     ]
    }
   ],
   "source": [
    "x = ['Adit', 'Budi', 'Cecep', 'Firman', 'Jojo', 'Lili', 'Pedro', 'Samsul', 'Tuti', 'Yanuar']\n",
    "a = 'Bagus'\n",
    "i = 0\n",
    "while a >= x[i]:\n",
    "    i = i + 1\n",
    "print ('a terletak di antara ',x[i-1],' dan ',x[i])"
   ]
  },
  {
   "cell_type": "markdown",
   "metadata": {},
   "source": [
    "<a href=\"#back6\">Kembali ke Latihan 6</a>\n",
    "\n",
    "<a name=\"ex7answer\">Kunci Jawaban Latihan 7</a>"
   ]
  },
  {
   "cell_type": "code",
   "execution_count": null,
   "metadata": {
    "collapsed": false
   },
   "outputs": [],
   "source": [
    "import matplotlib.dates as md\n",
    "import numpy as np\n",
    "oilprice = np.loadtxt('oil_price_monthly.dat',delimiter=',')\n",
    "plt.plot(oilprice[:,2],'b-')\n",
    "plt.xticks(rotation=30)\n",
    "nrow,ncol=oilprice.shape\n",
    "print (nrow)\n",
    "for i in range(nrow):\n",
    "    if oilprice[i,2] > 40:\n",
    "        print ('indeks ',i)\n",
    "        print ('Harga minyak melampaui 40 euro pada ',int(oilprice[i,1]),int(oilprice[i,0]))\n",
    "        break\n",
    "for i in range(nrow):\n",
    "    if oilprice[i,2] > 60:\n",
    "        date = md.num2date(oilprice[i,1])\n",
    "        print ('Harga minyak melampaui 60 euro pada ',int(oilprice[i,1]),int(oilprice[i,0]))\n",
    "        break\n",
    "for i in range(nrow):\n",
    "    if oilprice[i,2] > 80:\n",
    "        date = md.num2date(oilprice[i,1])\n",
    "        print ('Harga minyak melampaui 80 euro pada ',int(oilprice[i,1]),int(oilprice[i,0]))\n",
    "        break"
   ]
  },
  {
   "cell_type": "markdown",
   "metadata": {},
   "source": [
    "<a href=\"#back7\">Kembali ke Latihan 7</a>"
   ]
  }
 ],
 "metadata": {
  "anaconda-cloud": {},
  "kernelspec": {
   "display_name": "Python [Root]",
   "language": "python",
   "name": "Python [Root]"
  },
  "language_info": {
   "codemirror_mode": {
    "name": "ipython",
    "version": 3
   },
   "file_extension": ".py",
   "mimetype": "text/x-python",
   "name": "python",
   "nbconvert_exporter": "python",
   "pygments_lexer": "ipython3",
   "version": "3.5.2"
  }
 },
 "nbformat": 4,
 "nbformat_minor": 0
}
